{
 "cells": [
  {
   "cell_type": "markdown",
   "metadata": {},
   "source": [
    "# MNIST Example"
   ]
  },
  {
   "cell_type": "code",
   "execution_count": 1,
   "metadata": {},
   "outputs": [],
   "source": [
    "# You dont need this, this is for my convinience\n",
    "import sys\n",
    "import os\n",
    "notebook_dir = '\\\\'.join(os.getcwd().split('\\\\')[:-1])\n",
    "sys.path.append(notebook_dir)"
   ]
  },
  {
   "cell_type": "code",
   "execution_count": 2,
   "metadata": {},
   "outputs": [],
   "source": [
    "import numpy as np\n",
    "import matplotlib.pyplot as plt\n",
    "from nervos.utils import Module, Parameters\n",
    "from nervos.dataloader import MNISTLoader"
   ]
  },
  {
   "cell_type": "code",
   "execution_count": 3,
   "metadata": {},
   "outputs": [],
   "source": [
    "p = Parameters()\n",
    "p.from_url('https://pastebin.com/raw/X9fAjKGR')"
   ]
  },
  {
   "cell_type": "code",
   "execution_count": 4,
   "metadata": {},
   "outputs": [],
   "source": [
    "class MNIST_SNN(Module):\n",
    "    def __init__(self, parameters, identifier=None):\n",
    "        super().__init__(parameters, identifier)\n",
    "        self.dataloader = MNISTLoader(parameters, classes=[i for i in range(5)])\n",
    "        self.X_train, self.Y_train = self.dataloader.dataloader(\n",
    "            preprocess=True, pca=False, size=100\n",
    "        )\n",
    "        self.X_test, self.Y_test = self.dataloader.dataloader(\n",
    "            preprocess=True, train=False, pca=False\n",
    "        )\n",
    "    def predict(self, un_processed_image, model_location):\n",
    "        spike_train = np.array(self.dataloader.img2spiketrain(un_processed_image))\n",
    "        synapses, neuron_label_map = self.load_model(model_location)\n",
    "        return self.get_prediction(spike_train, synapses, neuron_label_map)"
   ]
  },
  {
   "cell_type": "code",
   "execution_count": 6,
   "metadata": {},
   "outputs": [
    {
     "name": "stdout",
     "output_type": "stream",
     "text": [
      "Epoch 1/3\n",
      "100/100 [========================================]\n",
      "Testing...\n",
      "Test set accuracy: 0.7\n",
      "Time elapsed since training start: 139.892s\n",
      "Epoch 2/3\n",
      "100/100 [========================================]\n",
      "Testing...\n",
      "Test set accuracy: 0.95\n",
      "Time elapsed since training start: 279.372s\n",
      "Epoch 3/3\n",
      "100/100 [========================================]\n",
      "Testing...\n",
      "Test set accuracy: 1.0\n",
      "Time elapsed since training start: 414.278s\n",
      "Training complete!\n"
     ]
    }
   ],
   "source": [
    "m = MNIST_SNN(p,\"5classmnist\")\n",
    "m.initialise_layers([784,80])\n",
    "y = m.train()"
   ]
  },
  {
   "cell_type": "code",
   "execution_count": 7,
   "metadata": {},
   "outputs": [
    {
     "data": {
      "image/png": "[encoded data removed]",
      "text/plain": [
       "<Figure size 1000x3000 with 5 Axes>"
      ]
     },
     "metadata": {},
     "output_type": "display_data"
    }
   ],
   "source": [
    "def visualise_synapse(synapses,labels):\n",
    "    kk=28\n",
    "    classes = {i:np.zeros((kk,kk)) for i in np.unique(labels)}\n",
    "    for idx in range(len(synapses)):\n",
    "        classes[labels[idx]]+= synapses[idx].reshape((kk,kk))\n",
    "    \n",
    "    i = 1\n",
    "    plt.figure(figsize=(10,30))\n",
    "    for k in classes.keys():\n",
    "        plt.subplot(1,len(classes),i)\n",
    "        plt.imshow(classes[k])\n",
    "        plt.title(f\"{k}\")\n",
    "        plt.tight_layout()\n",
    "        plt.axis('off')\n",
    "        i+=1\n",
    "    plt.show()\n",
    "    \n",
    "visualise_synapse(m.learned_synapses[0],m.learned_neuron_label_map)"
   ]
  },
  {
   "cell_type": "code",
   "execution_count": 8,
   "metadata": {},
   "outputs": [
    {
     "name": "stdout",
     "output_type": "stream",
     "text": [
      "Calculating Accuracy\n",
      "Tested 1500 images\n",
      "0.9153333333333333\n"
     ]
    }
   ],
   "source": [
    "def accuracy(m2):\n",
    "    spike_trains,labels = MNISTLoader(p,classes=[i for i in range(5)]).dataloader(train=False,preprocess=True,seed=123,size=1500)\n",
    "    t = 0\n",
    "    c = 0\n",
    "    preds = []\n",
    "    print('Calculating Accuracy')\n",
    "    for st,label in zip(spike_trains,labels):\n",
    "        pred = m2.get_prediction(st)\n",
    "        preds.append(pred)\n",
    "        if pred == label:\n",
    "            c+=1\n",
    "        t+=1\n",
    "        \n",
    "        print(f\"\\rTested {t} images\",end='')\n",
    "    print()\n",
    "    print(c/t)\n",
    "    return labels,preds\n",
    "\n",
    "y_true,y_pred = accuracy(m)"
   ]
  }
 ],
 "metadata": {
  "kernelspec": {
   "display_name": "venv",
   "language": "python",
   "name": "python3"
  },
  "language_info": {
   "codemirror_mode": {
    "name": "ipython",
    "version": 3
   },
   "file_extension": ".py",
   "mimetype": "text/x-python",
   "name": "python",
   "nbconvert_exporter": "python",
   "pygments_lexer": "ipython3",
   "version": "3.12.4"
  }
 },
 "nbformat": 4,
 "nbformat_minor": 2
}
